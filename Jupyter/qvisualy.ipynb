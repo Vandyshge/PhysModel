{
 "cells": [
  {
   "cell_type": "code",
   "execution_count": 2,
   "metadata": {},
   "outputs": [],
   "source": [
    "import random\n",
    "body = [0, 0, 10 ** -9, 1] # (x_0, y_0, q, m)\n",
    "N = 100\n",
    "inf = [] # (x_i, y_i, q_i)\n",
    "for i in range(N):\n",
    "    inf.append([random.randint(-100, 100), random.randint(-100, 100), random.randint(-10, 10)])"
   ]
  },
  {
   "cell_type": "code",
   "execution_count": 3,
   "metadata": {},
   "outputs": [
    {
     "name": "stdout",
     "output_type": "stream",
     "text": [
      "[[-89, 62, 8], [6, -13, 0], [14, -73, 6], [52, 97, 5], [44, 73, -10], [-26, -100, -10], [-70, 5, 5], [30, 81, 6], [85, 46, 6], [-47, 67, -9], [-86, -39, -7], [-75, -62, -4], [-62, 48, -7], [-17, 46, -2], [79, -7, -6], [-50, 48, -10], [-3, 8, -5], [-74, -63, -3], [-70, -43, 7], [-61, -49, 9], [-22, -71, 0], [-32, 26, 3], [99, -30, -8], [-79, 46, -10], [44, 59, 8], [-84, -11, -6], [-54, -45, -6], [50, -68, 0], [57, -89, 4], [-79, -12, -3], [-89, 81, 8], [-34, 39, 6], [55, 68, 7], [-6, -65, -7], [-75, 32, -5], [-93, 26, -7], [14, -86, -9], [21, -64, 6], [-47, -87, -1], [-6, 52, 7], [13, -4, 5], [-17, -70, -1], [-35, 77, -1], [87, -70, -4], [82, -29, 9], [36, 7, 2], [-61, -53, -4], [-27, -80, 8], [-64, 42, -9], [16, -26, 4], [-46, -32, 7], [19, 69, 7], [100, -81, -10], [43, 31, 9], [65, -66, -2], [3, -23, -6], [61, -63, 7], [27, 93, 10], [71, 59, 8], [-83, -63, -5], [7, 65, 9], [32, 20, -2], [-14, 97, 3], [-25, -36, -7], [14, -24, 0], [-40, -33, -10], [100, -24, 7], [-7, 39, -9], [-27, -99, -7], [-97, 76, -3], [92, 13, -9], [79, -12, 0], [18, -49, 8], [-97, 93, -3], [54, 9, 0], [77, -74, 1], [-9, 75, 3], [-31, 88, -9], [-9, 70, -8], [-83, -60, 7], [-15, 5, -10], [22, 78, 2], [36, 23, 7], [-9, 27, 4], [84, -58, 10], [-80, 27, -2], [-80, 89, 3], [-93, 77, 2], [72, -42, -3], [-92, -25, -10], [83, 95, -8], [-62, 88, 3], [-33, -39, 7], [-12, 70, 10], [-31, 6, -9], [-52, -2, -1], [51, -27, -1], [100, -71, -2], [60, 32, -2], [89, 28, 4]]\n"
     ]
    }
   ],
   "source": [
    "print(inf)"
   ]
  },
  {
   "cell_type": "code",
   "execution_count": 4,
   "metadata": {},
   "outputs": [
    {
     "name": "stdout",
     "output_type": "stream",
     "text": [
      "[-1.0263000000000009, 0.6154999999999999]\n"
     ]
    }
   ],
   "source": [
    "q, m = body[2:]\n",
    "def acceleration(x, y):\n",
    "    a = [0, 0]\n",
    "    for i in range(N):\n",
    "        x_i, y_i, q_i = inf[i]\n",
    "        lenth_v = [x - x_i, y - y_i]\n",
    "        a_i = (9 * 10 ** 9 * q * q_i) / ((lenth_v[0] ** 2 + lenth_v[1] ** 2) * m)\n",
    "        a_i_x = a_i * lenth_v[0] / (lenth_v[0] ** 2 + lenth_v[1] ** 2) ** 0.5\n",
    "        a_i_y = a_i * lenth_v[1] / (lenth_v[0] ** 2 + lenth_v[1] ** 2) ** 0.5\n",
    "        a[0] += round(a_i_x, 4)\n",
    "        a[1] += round(a_i_y, 4)\n",
    "    return a\n",
    "print(acceleration(0, 0))"
   ]
  },
  {
   "cell_type": "code",
   "execution_count": 5,
   "metadata": {},
   "outputs": [],
   "source": [
    "x, y = body[:2]\n",
    "\n",
    "time = 0.001\n",
    "v = [0, 0] # velosity\n",
    "echos = 5000\n",
    "history_x = [0] * (echos + 1)\n",
    "history_y = [0] * (echos + 1)\n",
    "\n",
    "for i in range(1, echos + 1, 1):\n",
    "    a = acceleration(x, y)\n",
    "#     print(a)\n",
    "    x += v[0] * time + a[0] * time ** 2 / 2\n",
    "    y += v[1] * time + a[1] * time ** 2 / 2\n",
    "    v[0] += a[0] * time\n",
    "    v[1] += a[1] * time\n",
    "    history_x[i] = x\n",
    "    history_y[i] = y\n",
    "    \n",
    "# print(history_x, history_y)"
   ]
  },
  {
   "cell_type": "code",
   "execution_count": 7,
   "metadata": {},
   "outputs": [
    {
     "data": {
      "text/plain": [
       "[<matplotlib.lines.Line2D at 0x18d2251d940>]"
      ]
     },
     "execution_count": 7,
     "metadata": {},
     "output_type": "execute_result"
    },
    {
     "data": {
      "image/png": "[encoded data removed]",
      "text/plain": [
       "<Figure size 432x288 with 1 Axes>"
      ]
     },
     "metadata": {
      "needs_background": "light"
     },
     "output_type": "display_data"
    }
   ],
   "source": [
    "import matplotlib.pyplot as plt\n",
    "import numpy as np\n",
    "plt.xlabel('$x$')\n",
    "plt.ylabel('$y$')\n",
    "plt.plot(history_x, history_y)"
   ]
  }
 ],
 "metadata": {
  "kernelspec": {
   "display_name": "Python 3",
   "language": "python",
   "name": "python3"
  },
  "language_info": {
   "codemirror_mode": {
    "name": "ipython",
    "version": 3
   },
   "file_extension": ".py",
   "mimetype": "text/x-python",
   "name": "python",
   "nbconvert_exporter": "python",
   "pygments_lexer": "ipython3",
   "version": "3.8.3"
  }
 },
 "nbformat": 4,
 "nbformat_minor": 4
}
