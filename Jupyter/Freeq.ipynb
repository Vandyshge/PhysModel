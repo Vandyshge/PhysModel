{
  "nbformat": 4,
  "nbformat_minor": 0,
  "metadata": {
    "colab": {
      "name": "Freeq.ipynb",
      "provenance": [],
      "collapsed_sections": []
    },
    "kernelspec": {
      "name": "python3",
      "display_name": "Python 3"
    }
  },
  "cells": [
    {
      "cell_type": "code",
      "metadata": {
        "id": "udm1yAJIXpg4",
        "colab_type": "code",
        "colab": {}
      },
      "source": [
        "import random\n",
        "\n",
        "random.seed(1)\n",
        "\n",
        "N_1 = 4\n",
        "# body = []\n",
        "# for i in range(N_1):\n",
        "#     body.append([random.randint(-100, 100), random.randint(-100, 100), random.randint(-10, 10) * 10 ** -4, 1, 0, 0]) # (x_0, y_0, q, m, v_x0, v_y0)\n",
        "\n",
        "body = [[3, -5, -10 ** -4, 1, 0, 0], [-10, 6, 10 ** -4, 1, 0, 0], [10, -7, 10 ** -4, 1, 0, 0], [4, 3, -10 ** -4, 1, 0, 0]] # (x_0, y_0, q, m, v_x0, v_y0)\n",
        "\n",
        "sigma = 1\n",
        "ep = 1\n",
        "\n",
        "N_2 = 0\n",
        "inf = []\n",
        "\n",
        "time = 0.01\n",
        "echos = 1000000\n",
        "\n",
        "history_x = [[0 for i in range(echos + 1)] for i in range(N_1)]\n",
        "history_y = [[0 for i in range(echos + 1)] for i in range(N_1)]\n",
        "\n",
        "v = [] # velosity\n",
        "\n",
        "i = 0\n",
        "for elem in body:\n",
        "    v.append([elem[4], elem[5]])\n",
        "    history_x[i][0] = elem[0]\n",
        "    history_y[i][0] = elem[1]\n",
        "    i += 1\n",
        " \n",
        "# print(history_x, history_y, v, sep=\"\\n\\n\")"
      ],
      "execution_count": null,
      "outputs": []
    },
    {
      "cell_type": "code",
      "metadata": {
        "id": "cbTYobIoX-5o",
        "colab_type": "code",
        "colab": {
          "base_uri": "https://localhost:8080/",
          "height": 34
        },
        "outputId": "45ff6720-9312-4253-db06-bc8093ddb9be"
      },
      "source": [
        "def acceleration(x, y, n, echos):\n",
        "    a = [0, 0]\n",
        "    q, m = body[n][2:4]\n",
        "    # print(q, m)\n",
        "    for i in range(N_1):\n",
        "        if i != n:\n",
        "            x_i, y_i, q_i = history_x[i][echos - 1], history_y[i][echos - 1], body[i][2]\n",
        "            lenth_v = [x - x_i, y - y_i]\n",
        "            lenth = (lenth_v[0] ** 2 + lenth_v[1] ** 2) ** (1 / 2)\n",
        "            # print(lenth_v, x, y, x_i, y_i, q_i)\n",
        "            a_i = (9 * 10 ** 9 * q * q_i) / (lenth ** 2 * m)\n",
        "            # a_i = 24 * ep * sigma ** 6 * (lenth ** -7 - 2 * sigma ** 6 * lenth ** -13) / m\n",
        "            a_i_x = a_i * lenth_v[0] / lenth\n",
        "            a_i_y = a_i * lenth_v[1] / lenth\n",
        "            a[0] += a_i_x\n",
        "            a[1] += a_i_y\n",
        "       \n",
        "    return a\n",
        " \n",
        " \n",
        "print(acceleration(1, 1, 0, 1))"
      ],
      "execution_count": null,
      "outputs": [
        {
          "output_type": "stream",
          "text": [
            "[-5.857623774157488, -3.997511882984486]\n"
          ],
          "name": "stdout"
        }
      ]
    },
    {
      "cell_type": "code",
      "metadata": {
        "id": "84XF00ZbVPlk",
        "colab_type": "code",
        "colab": {}
      },
      "source": [
        "def step(i):\n",
        "    for n in range(N_1):\n",
        "        x, y = history_x[n][i - 1], history_y[n][i - 1]\n",
        " \n",
        "        a = acceleration(x, y, n, i)\n",
        "        # print('1 ---- ', a, x, y, n, i)\n",
        " \n",
        "        x += v[n][0] * time + a[0] * time ** 2 / 2\n",
        "        y += v[n][1] * time + a[1] * time ** 2 / 2\n",
        "        \n",
        "        # print('2 ---- ', v, v[n])\n",
        " \n",
        "        v[n][0] += a[0] * time\n",
        "        v[n][1] += a[1] * time\n",
        " \n",
        "        history_x[n][i] = x\n",
        "        history_y[n][i] = y\n",
        "        # print('3 ---- ', history_x, history_y, v, sep='\\n')\n",
        "        # print()"
      ],
      "execution_count": null,
      "outputs": []
    },
    {
      "cell_type": "code",
      "metadata": {
        "id": "L_1CdCKAYEGj",
        "colab_type": "code",
        "colab": {}
      },
      "source": [
        "for i in range(1, echos + 1, 1):\n",
        "    step(i)\n",
        "    \n",
        "# print(history_x, history_y, v, sep='\\n')"
      ],
      "execution_count": null,
      "outputs": []
    },
    {
      "cell_type": "code",
      "metadata": {
        "id": "treGZjEXYHJs",
        "colab_type": "code",
        "colab": {
          "base_uri": "https://localhost:8080/",
          "height": 346
        },
        "outputId": "2ee5c975-dbb7-4496-d348-841b74a0b57d"
      },
      "source": [
        "import matplotlib.pyplot as plt\n",
        "import numpy as np\n",
        "plt.xlabel('$x$')\n",
        "plt.ylabel('$y$')\n",
        "plt.grid(True)\n",
        "plt.plot(history_x[0], history_y[0], history_x[1], history_y[1], history_x[2], history_y[2], history_x[3], history_y[3])"
      ],
      "execution_count": null,
      "outputs": [
        {
          "output_type": "execute_result",
          "data": {
            "text/plain": [
              "[<matplotlib.lines.Line2D at 0x7fb69c20acf8>,\n",
              " <matplotlib.lines.Line2D at 0x7fb69c1b9a58>,\n",
              " <matplotlib.lines.Line2D at 0x7fb69c1b9ba8>,\n",
              " <matplotlib.lines.Line2D at 0x7fb69c1b9cf8>]"
            ]
          },
          "metadata": {
            "tags": []
          },
          "execution_count": 7
        },
        {
          "output_type": "display_data",
          "data": {
            "image/png": "[encoded data removed]",
            "text/plain": [
              "<Figure size 432x288 with 1 Axes>"
            ]
          },
          "metadata": {
            "tags": [],
            "needs_background": "light"
          }
        }
      ]
    }
  ]
}